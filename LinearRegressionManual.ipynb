{
 "cells": [
  {
   "cell_type": "code",
   "execution_count": 5,
   "id": "066409b2-972a-451b-9b18-4a96f7735577",
   "metadata": {},
   "outputs": [],
   "source": [
    "import numpy as np\n",
    "from sklearn.preprocessing import add_dummy_feature\n",
    "\n",
    "m = 1000\n",
    "X = 5 * np.random.rand(m, 1)\n",
    "Y = 12.467 + 5.3 *X + np.random.rand(m,1)\n",
    "\n",
    "X = add_dummy_feature(X)"
   ]
  },
  {
   "cell_type": "code",
   "execution_count": 6,
   "id": "61c9505b-cc99-444a-8e7e-5b843084c14a",
   "metadata": {},
   "outputs": [
    {
     "data": {
      "text/plain": [
       "array([[12.95650594],\n",
       "       [ 5.30501869]])"
      ]
     },
     "execution_count": 6,
     "metadata": {},
     "output_type": "execute_result"
    }
   ],
   "source": [
    "result = np.linalg.inv(X.T @ X) @ X.T @ Y\n",
    "result"
   ]
  },
  {
   "cell_type": "code",
   "execution_count": 7,
   "id": "45e3d606-0dfa-4064-ad5d-38c8c3c84a82",
   "metadata": {},
   "outputs": [
    {
     "data": {
      "text/plain": [
       "array([[34.17658069],\n",
       "       [55.39665545]])"
      ]
     },
     "execution_count": 7,
     "metadata": {},
     "output_type": "execute_result"
    }
   ],
   "source": [
    "X_new = np.array([[4], [8]])\n",
    "X_new = add_dummy_feature(X_new)\n",
    "Y_pred = X_new @ result\n",
    "Y_pred"
   ]
  },
  {
   "cell_type": "code",
   "execution_count": null,
   "id": "9a44c5d8-547e-4419-b55b-2c5f871c2d3e",
   "metadata": {},
   "outputs": [],
   "source": []
  }
 ],
 "metadata": {
  "kernelspec": {
   "display_name": "Python 3 (ipykernel)",
   "language": "python",
   "name": "python3"
  },
  "language_info": {
   "codemirror_mode": {
    "name": "ipython",
    "version": 3
   },
   "file_extension": ".py",
   "mimetype": "text/x-python",
   "name": "python",
   "nbconvert_exporter": "python",
   "pygments_lexer": "ipython3",
   "version": "3.11.7"
  }
 },
 "nbformat": 4,
 "nbformat_minor": 5
}
